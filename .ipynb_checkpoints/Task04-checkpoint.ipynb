{
 "cells": [
  {
   "cell_type": "code",
   "execution_count": 1,
   "metadata": {
    "ExecuteTime": {
     "end_time": "2020-10-23T10:41:38.689023Z",
     "start_time": "2020-10-23T10:41:36.496252Z"
    }
   },
   "outputs": [],
   "source": [
    "from pyfm import pylibfm\n",
    "from sklearn.feature_extraction import DictVectorizer\n",
    "import numpy as np"
   ]
  },
  {
   "cell_type": "code",
   "execution_count": 2,
   "metadata": {
    "ExecuteTime": {
     "end_time": "2020-10-23T10:43:28.313650Z",
     "start_time": "2020-10-23T10:43:28.277656Z"
    }
   },
   "outputs": [
    {
     "name": "stdout",
     "output_type": "stream",
     "text": [
      "[[19.  0.  0.  0.  1.  1.  0.  0.  0.]\n",
      " [33.  0.  0.  1.  0.  0.  1.  0.  0.]\n",
      " [55.  0.  1.  0.  0.  0.  0.  1.  0.]\n",
      " [20.  1.  0.  0.  0.  0.  0.  0.  1.]]\n"
     ]
    }
   ],
   "source": [
    "train = [\n",
    "    {\"user\": \"1\", \"item\": \"5\", \"age\": 19},\n",
    "    {\"user\": \"2\", \"item\": \"43\", \"age\": 33},\n",
    "    {\"user\": \"3\", \"item\": \"20\", \"age\": 55},\n",
    "    {\"user\": \"4\", \"item\": \"10\", \"age\": 20},\n",
    "]\n",
    "v = DictVectorizer()\n",
    "X = v.fit_transform(train)\n",
    "print(X.toarray())"
   ]
  },
  {
   "cell_type": "code",
   "execution_count": 3,
   "metadata": {
    "ExecuteTime": {
     "end_time": "2020-10-23T10:45:39.728540Z",
     "start_time": "2020-10-23T10:45:39.677551Z"
    }
   },
   "outputs": [
    {
     "data": {
      "text/plain": [
       "array([1., 1., 1., 1.])"
      ]
     },
     "execution_count": 3,
     "metadata": {},
     "output_type": "execute_result"
    }
   ],
   "source": [
    "y = np.repeat(1.0,X.shape[0])\n",
    "y"
   ]
  },
  {
   "cell_type": "code",
   "execution_count": 4,
   "metadata": {
    "ExecuteTime": {
     "end_time": "2020-10-23T10:45:59.819474Z",
     "start_time": "2020-10-23T10:45:59.774480Z"
    }
   },
   "outputs": [
    {
     "name": "stdout",
     "output_type": "stream",
     "text": [
      "Creating validation dataset of 0.01 of training for adaptive regularization\n",
      "-- Epoch 1\n",
      "Training log loss: 0.38094\n"
     ]
    },
    {
     "data": {
      "text/plain": [
       "array([0.99204031])"
      ]
     },
     "execution_count": 4,
     "metadata": {},
     "output_type": "execute_result"
    }
   ],
   "source": [
    "fm = pylibfm.FM()\n",
    "fm.fit(X,y)\n",
    "fm.predict(v.transform({\"user\": \"1\", \"item\": \"10\", \"age\": 24}))"
   ]
  },
  {
   "cell_type": "code",
   "execution_count": 5,
   "metadata": {
    "ExecuteTime": {
     "end_time": "2020-10-23T10:46:24.388889Z",
     "start_time": "2020-10-23T10:46:24.378889Z"
    }
   },
   "outputs": [],
   "source": [
    "## 电影评分数据集实战"
   ]
  },
  {
   "cell_type": "code",
   "execution_count": 2,
   "metadata": {
    "ExecuteTime": {
     "end_time": "2020-10-23T10:55:10.507134Z",
     "start_time": "2020-10-23T10:55:08.013701Z"
    }
   },
   "outputs": [],
   "source": [
    "import numpy as np\n",
    "from sklearn.feature_extraction import DictVectorizer\n",
    "from pyfm import pylibfm\n",
    "\n",
    "# Read in data\n",
    "def loadData(filename,path=\"ml-100k/\"):\n",
    "    data = []\n",
    "    y = []\n",
    "    users=set()\n",
    "    items=set()\n",
    "    with open(path+filename) as f:\n",
    "        for line in f:\n",
    "            (user,movieid,rating,ts)=line.split('\\t')\n",
    "            data.append({ \"user_id\": str(user), \"movie_id\": str(movieid)})\n",
    "            y.append(float(rating))\n",
    "            users.add(user)\n",
    "            items.add(movieid)\n",
    "\n",
    "    return (data, np.array(y), users, items)"
   ]
  },
  {
   "cell_type": "code",
   "execution_count": 3,
   "metadata": {
    "ExecuteTime": {
     "end_time": "2020-10-23T10:55:14.201548Z",
     "start_time": "2020-10-23T10:55:12.293758Z"
    }
   },
   "outputs": [],
   "source": [
    "(train_data, y_train, train_users, train_items) = loadData(\"ua.base\")\n",
    "(test_data, y_test, test_users, test_items) = loadData(\"ua.test\")\n",
    "v = DictVectorizer()\n",
    "X_train = v.fit_transform(train_data)\n",
    "X_test = v.transform(test_data)"
   ]
  },
  {
   "cell_type": "code",
   "execution_count": 4,
   "metadata": {
    "ExecuteTime": {
     "end_time": "2020-10-23T11:15:34.707189Z",
     "start_time": "2020-10-23T10:55:16.223393Z"
    }
   },
   "outputs": [
    {
     "name": "stdout",
     "output_type": "stream",
     "text": [
      "Creating validation dataset of 0.01 of training for adaptive regularization\n",
      "-- Epoch 1\n",
      "Training MSE: 0.59486\n",
      "-- Epoch 2\n",
      "Training MSE: 0.51817\n",
      "-- Epoch 3\n",
      "Training MSE: 0.49050\n",
      "-- Epoch 4\n",
      "Training MSE: 0.47471\n",
      "-- Epoch 5\n",
      "Training MSE: 0.46431\n",
      "-- Epoch 6\n",
      "Training MSE: 0.45681\n",
      "-- Epoch 7\n",
      "Training MSE: 0.45109\n",
      "-- Epoch 8\n",
      "Training MSE: 0.44651\n",
      "-- Epoch 9\n",
      "Training MSE: 0.44281\n",
      "-- Epoch 10\n",
      "Training MSE: 0.43963\n",
      "-- Epoch 11\n",
      "Training MSE: 0.43680\n",
      "-- Epoch 12\n",
      "Training MSE: 0.43445\n",
      "-- Epoch 13\n",
      "Training MSE: 0.43237\n",
      "-- Epoch 14\n",
      "Training MSE: 0.43040\n",
      "-- Epoch 15\n",
      "Training MSE: 0.42869\n",
      "-- Epoch 16\n",
      "Training MSE: 0.42710\n",
      "-- Epoch 17\n",
      "Training MSE: 0.42548\n",
      "-- Epoch 18\n",
      "Training MSE: 0.42407\n",
      "-- Epoch 19\n",
      "Training MSE: 0.42277\n",
      "-- Epoch 20\n",
      "Training MSE: 0.42143\n",
      "-- Epoch 21\n",
      "Training MSE: 0.42023\n",
      "-- Epoch 22\n",
      "Training MSE: 0.41898\n",
      "-- Epoch 23\n",
      "Training MSE: 0.41777\n",
      "-- Epoch 24\n",
      "Training MSE: 0.41652\n",
      "-- Epoch 25\n",
      "Training MSE: 0.41533\n",
      "-- Epoch 26\n",
      "Training MSE: 0.41423\n",
      "-- Epoch 27\n",
      "Training MSE: 0.41298\n",
      "-- Epoch 28\n",
      "Training MSE: 0.41173\n",
      "-- Epoch 29\n",
      "Training MSE: 0.41055\n",
      "-- Epoch 30\n",
      "Training MSE: 0.40931\n",
      "-- Epoch 31\n",
      "Training MSE: 0.40810\n",
      "-- Epoch 32\n",
      "Training MSE: 0.40673\n",
      "-- Epoch 33\n",
      "Training MSE: 0.40531\n",
      "-- Epoch 34\n",
      "Training MSE: 0.40392\n",
      "-- Epoch 35\n",
      "Training MSE: 0.40251\n",
      "-- Epoch 36\n",
      "Training MSE: 0.40105\n",
      "-- Epoch 37\n",
      "Training MSE: 0.39952\n",
      "-- Epoch 38\n",
      "Training MSE: 0.39789\n",
      "-- Epoch 39\n",
      "Training MSE: 0.39631\n",
      "-- Epoch 40\n",
      "Training MSE: 0.39455\n",
      "-- Epoch 41\n",
      "Training MSE: 0.39291\n",
      "-- Epoch 42\n",
      "Training MSE: 0.39114\n",
      "-- Epoch 43\n",
      "Training MSE: 0.38929\n",
      "-- Epoch 44\n",
      "Training MSE: 0.38752\n",
      "-- Epoch 45\n",
      "Training MSE: 0.38567\n",
      "-- Epoch 46\n",
      "Training MSE: 0.38374\n",
      "-- Epoch 47\n",
      "Training MSE: 0.38183\n",
      "-- Epoch 48\n",
      "Training MSE: 0.37980\n",
      "-- Epoch 49\n",
      "Training MSE: 0.37776\n",
      "-- Epoch 50\n",
      "Training MSE: 0.37574\n",
      "-- Epoch 51\n",
      "Training MSE: 0.37372\n",
      "-- Epoch 52\n",
      "Training MSE: 0.37173\n",
      "-- Epoch 53\n",
      "Training MSE: 0.36974\n",
      "-- Epoch 54\n",
      "Training MSE: 0.36771\n",
      "-- Epoch 55\n",
      "Training MSE: 0.36567\n",
      "-- Epoch 56\n",
      "Training MSE: 0.36372\n",
      "-- Epoch 57\n",
      "Training MSE: 0.36175\n",
      "-- Epoch 58\n",
      "Training MSE: 0.35982\n",
      "-- Epoch 59\n",
      "Training MSE: 0.35792\n",
      "-- Epoch 60\n",
      "Training MSE: 0.35603\n",
      "-- Epoch 61\n",
      "Training MSE: 0.35419\n",
      "-- Epoch 62\n",
      "Training MSE: 0.35239\n",
      "-- Epoch 63\n",
      "Training MSE: 0.35073\n",
      "-- Epoch 64\n",
      "Training MSE: 0.34909\n",
      "-- Epoch 65\n",
      "Training MSE: 0.34752\n",
      "-- Epoch 66\n",
      "Training MSE: 0.34591\n",
      "-- Epoch 67\n",
      "Training MSE: 0.34436\n",
      "-- Epoch 68\n",
      "Training MSE: 0.34289\n",
      "-- Epoch 69\n",
      "Training MSE: 0.34152\n",
      "-- Epoch 70\n",
      "Training MSE: 0.34020\n",
      "-- Epoch 71\n",
      "Training MSE: 0.33880\n",
      "-- Epoch 72\n",
      "Training MSE: 0.33760\n",
      "-- Epoch 73\n",
      "Training MSE: 0.33642\n",
      "-- Epoch 74\n",
      "Training MSE: 0.33528\n",
      "-- Epoch 75\n",
      "Training MSE: 0.33408\n",
      "-- Epoch 76\n",
      "Training MSE: 0.33309\n",
      "-- Epoch 77\n",
      "Training MSE: 0.33207\n",
      "-- Epoch 78\n",
      "Training MSE: 0.33114\n",
      "-- Epoch 79\n",
      "Training MSE: 0.33022\n",
      "-- Epoch 80\n",
      "Training MSE: 0.32938\n",
      "-- Epoch 81\n",
      "Training MSE: 0.32851\n",
      "-- Epoch 82\n",
      "Training MSE: 0.32776\n",
      "-- Epoch 83\n",
      "Training MSE: 0.32699\n",
      "-- Epoch 84\n",
      "Training MSE: 0.32620\n",
      "-- Epoch 85\n",
      "Training MSE: 0.32555\n",
      "-- Epoch 86\n",
      "Training MSE: 0.32493\n",
      "-- Epoch 87\n",
      "Training MSE: 0.32434\n",
      "-- Epoch 88\n",
      "Training MSE: 0.32379\n",
      "-- Epoch 89\n",
      "Training MSE: 0.32325\n",
      "-- Epoch 90\n",
      "Training MSE: 0.32268\n",
      "-- Epoch 91\n",
      "Training MSE: 0.32222\n",
      "-- Epoch 92\n",
      "Training MSE: 0.32179\n",
      "-- Epoch 93\n",
      "Training MSE: 0.32144\n",
      "-- Epoch 94\n",
      "Training MSE: 0.32094\n",
      "-- Epoch 95\n",
      "Training MSE: 0.32069\n",
      "-- Epoch 96\n",
      "Training MSE: 0.32033\n",
      "-- Epoch 97\n",
      "Training MSE: 0.31991\n",
      "-- Epoch 98\n",
      "Training MSE: 0.31967\n",
      "-- Epoch 99\n",
      "Training MSE: 0.31944\n",
      "-- Epoch 100\n",
      "Training MSE: 0.31917\n"
     ]
    }
   ],
   "source": [
    "# Build and train a Factorization Machine\n",
    "fm = pylibfm.FM(num_factors=10, num_iter=100, verbose=True, task=\"regression\", initial_learning_rate=0.001, learning_rate_schedule=\"optimal\")\n",
    "fm.fit(X_train,y_train)"
   ]
  },
  {
   "cell_type": "code",
   "execution_count": 5,
   "metadata": {
    "ExecuteTime": {
     "end_time": "2020-10-23T11:15:36.557898Z",
     "start_time": "2020-10-23T11:15:36.221951Z"
    }
   },
   "outputs": [
    {
     "name": "stdout",
     "output_type": "stream",
     "text": [
      "FM MSE: 0.8909\n"
     ]
    }
   ],
   "source": [
    "preds = fm.predict(X_test)\n",
    "from sklearn.metrics import mean_squared_error\n",
    "print(\"FM MSE: %.4f\" % mean_squared_error(y_test,preds))"
   ]
  },
  {
   "cell_type": "code",
   "execution_count": 6,
   "metadata": {
    "ExecuteTime": {
     "end_time": "2020-10-23T11:56:32.143796Z",
     "start_time": "2020-10-23T11:56:32.133796Z"
    }
   },
   "outputs": [],
   "source": [
    "# 分类任务实战"
   ]
  },
  {
   "cell_type": "code",
   "execution_count": 10,
   "metadata": {
    "ExecuteTime": {
     "end_time": "2020-10-23T11:58:40.582164Z",
     "start_time": "2020-10-23T11:58:39.790127Z"
    }
   },
   "outputs": [],
   "source": [
    "# 搞数据\n",
    "import numpy as np\n",
    "from sklearn.feature_extraction import DictVectorizer\n",
    "from sklearn.model_selection import train_test_split\n",
    "from pyfm import pylibfm\n",
    "\n",
    "from sklearn.datasets import make_classification\n",
    "\n",
    "X, y = make_classification(n_samples=1000,n_features=100, n_clusters_per_class=1)\n",
    "data = [ {v: k for k, v in dict(zip(i, range(len(i)))).items()}  for i in X]\n",
    "\n",
    "X_train, X_test, y_train, y_test = train_test_split(data, y, test_size=0.1, random_state=42)\n",
    "\n",
    "v = DictVectorizer()\n",
    "X_train = v.fit_transform(X_train)\n",
    "X_test = v.transform(X_test)"
   ]
  },
  {
   "cell_type": "code",
   "execution_count": 11,
   "metadata": {
    "ExecuteTime": {
     "end_time": "2020-10-23T12:01:46.731178Z",
     "start_time": "2020-10-23T11:59:11.214286Z"
    }
   },
   "outputs": [
    {
     "name": "stdout",
     "output_type": "stream",
     "text": [
      "Creating validation dataset of 0.01 of training for adaptive regularization\n",
      "-- Epoch 1\n",
      "Training log loss: 2.12467\n",
      "-- Epoch 2\n",
      "Training log loss: 1.74185\n",
      "-- Epoch 3\n",
      "Training log loss: 1.42232\n",
      "-- Epoch 4\n",
      "Training log loss: 1.16085\n",
      "-- Epoch 5\n",
      "Training log loss: 0.94964\n",
      "-- Epoch 6\n",
      "Training log loss: 0.78052\n",
      "-- Epoch 7\n",
      "Training log loss: 0.64547\n",
      "-- Epoch 8\n",
      "Training log loss: 0.53758\n",
      "-- Epoch 9\n",
      "Training log loss: 0.45132\n",
      "-- Epoch 10\n",
      "Training log loss: 0.38187\n"
     ]
    }
   ],
   "source": [
    "# 建模型\n",
    "fm = pylibfm.FM(num_factors=50, num_iter=10, verbose=True, task=\"classification\", initial_learning_rate=0.0001, learning_rate_schedule=\"optimal\")\n",
    "fm.fit(X_train,y_train)"
   ]
  },
  {
   "cell_type": "code",
   "execution_count": 12,
   "metadata": {
    "ExecuteTime": {
     "end_time": "2020-10-23T12:42:24.861048Z",
     "start_time": "2020-10-23T12:42:24.674051Z"
    }
   },
   "outputs": [
    {
     "name": "stdout",
     "output_type": "stream",
     "text": [
      "Validation log loss: 1.3678\n"
     ]
    }
   ],
   "source": [
    "from sklearn.metrics import log_loss\n",
    "print(\"Validation log loss: %.4f\" % log_loss(y_test,fm.predict(X_test)))"
   ]
  }
 ],
 "metadata": {
  "hide_input": false,
  "kernelspec": {
   "display_name": "Python 3",
   "language": "python",
   "name": "python3"
  },
  "language_info": {
   "codemirror_mode": {
    "name": "ipython",
    "version": 3
   },
   "file_extension": ".py",
   "mimetype": "text/x-python",
   "name": "python",
   "nbconvert_exporter": "python",
   "pygments_lexer": "ipython3",
   "version": "3.8.3"
  },
  "varInspector": {
   "cols": {
    "lenName": 16,
    "lenType": 16,
    "lenVar": 40
   },
   "kernels_config": {
    "python": {
     "delete_cmd_postfix": "",
     "delete_cmd_prefix": "del ",
     "library": "var_list.py",
     "varRefreshCmd": "print(var_dic_list())"
    },
    "r": {
     "delete_cmd_postfix": ") ",
     "delete_cmd_prefix": "rm(",
     "library": "var_list.r",
     "varRefreshCmd": "cat(var_dic_list()) "
    }
   },
   "types_to_exclude": [
    "module",
    "function",
    "builtin_function_or_method",
    "instance",
    "_Feature"
   ],
   "window_display": false
  }
 },
 "nbformat": 4,
 "nbformat_minor": 4
}
